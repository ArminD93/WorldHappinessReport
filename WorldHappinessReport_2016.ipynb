{
  "nbformat": 4,
  "nbformat_minor": 0,
  "metadata": {
    "colab": {
      "name": "WorldHappinessReport_2016.ipynb",
      "provenance": [],
      "collapsed_sections": [],
      "mount_file_id": "1mH_bWF_STjyzKG9fm-iqle0Xt7cUvtPB",
      "authorship_tag": "ABX9TyMCBLorjB+QFogJ5+rx1GED",
      "include_colab_link": true
    },
    "kernelspec": {
      "name": "python3",
      "display_name": "Python 3"
    }
  },
  "cells": [
    {
      "cell_type": "markdown",
      "metadata": {
        "id": "view-in-github",
        "colab_type": "text"
      },
      "source": [
        "<a href=\"https://colab.research.google.com/github/ArminD93/WorldHappinessReport/blob/dev/WorldHappinessReport_2016.ipynb\" target=\"_parent\"><img src=\"https://colab.research.google.com/assets/colab-badge.svg\" alt=\"Open In Colab\"/></a>"
      ]
    },
    {
      "cell_type": "code",
      "metadata": {
        "id": "rFz-siSK0y3W",
        "colab_type": "code",
        "outputId": "443b99bd-32e3-403d-8373-68cebd2d0011",
        "colab": {
          "base_uri": "https://localhost:8080/",
          "height": 328
        }
      },
      "source": [
        "import pandas as pd\n",
        "import numpy as np\n",
        "import matplotlib.pyplot as plt\n",
        "import seaborn as sns\n",
        "sns.set(style=\"ticks\", color_codes=True)\n",
        "\n",
        "# Import zeszytu z ustawieniami:\n",
        "%cd '/content/drive/My Drive/ColabNotebooks/WorldHappiness/'\n",
        "%run WorldHappinessReport_configuration.ipynb\n",
        "\n",
        "\n",
        "happiness2016 = pd.read_csv('/content/drive/My Drive/ColabNotebooks/WorldHappiness/datasets/2016.csv', low_memory=False)\n",
        "happiness2016.head()"
      ],
      "execution_count": 1,
      "outputs": [
        {
          "output_type": "stream",
          "text": [
            "/content/drive/My Drive/ColabNotebooks/WorldHappiness\n"
          ],
          "name": "stdout"
        },
        {
          "output_type": "execute_result",
          "data": {
            "text/html": [
              "<div>\n",
              "<style scoped>\n",
              "    .dataframe tbody tr th:only-of-type {\n",
              "        vertical-align: middle;\n",
              "    }\n",
              "\n",
              "    .dataframe tbody tr th {\n",
              "        vertical-align: top;\n",
              "    }\n",
              "\n",
              "    .dataframe thead th {\n",
              "        text-align: right;\n",
              "    }\n",
              "</style>\n",
              "<table border=\"1\" class=\"dataframe\">\n",
              "  <thead>\n",
              "    <tr style=\"text-align: right;\">\n",
              "      <th></th>\n",
              "      <th>Country</th>\n",
              "      <th>Region</th>\n",
              "      <th>Happiness Rank</th>\n",
              "      <th>Happiness Score</th>\n",
              "      <th>Lower Confidence Interval</th>\n",
              "      <th>Upper Confidence Interval</th>\n",
              "      <th>Economy (GDP per Capita)</th>\n",
              "      <th>Family</th>\n",
              "      <th>Health (Life Expectancy)</th>\n",
              "      <th>Freedom</th>\n",
              "      <th>Trust (Government Corruption)</th>\n",
              "      <th>Generosity</th>\n",
              "      <th>Dystopia Residual</th>\n",
              "    </tr>\n",
              "  </thead>\n",
              "  <tbody>\n",
              "    <tr>\n",
              "      <th>0</th>\n",
              "      <td>Denmark</td>\n",
              "      <td>Western Europe</td>\n",
              "      <td>1</td>\n",
              "      <td>7.526</td>\n",
              "      <td>7.460</td>\n",
              "      <td>7.592</td>\n",
              "      <td>1.44178</td>\n",
              "      <td>1.16374</td>\n",
              "      <td>0.79504</td>\n",
              "      <td>0.57941</td>\n",
              "      <td>0.44453</td>\n",
              "      <td>0.36171</td>\n",
              "      <td>2.73939</td>\n",
              "    </tr>\n",
              "    <tr>\n",
              "      <th>1</th>\n",
              "      <td>Switzerland</td>\n",
              "      <td>Western Europe</td>\n",
              "      <td>2</td>\n",
              "      <td>7.509</td>\n",
              "      <td>7.428</td>\n",
              "      <td>7.590</td>\n",
              "      <td>1.52733</td>\n",
              "      <td>1.14524</td>\n",
              "      <td>0.86303</td>\n",
              "      <td>0.58557</td>\n",
              "      <td>0.41203</td>\n",
              "      <td>0.28083</td>\n",
              "      <td>2.69463</td>\n",
              "    </tr>\n",
              "    <tr>\n",
              "      <th>2</th>\n",
              "      <td>Iceland</td>\n",
              "      <td>Western Europe</td>\n",
              "      <td>3</td>\n",
              "      <td>7.501</td>\n",
              "      <td>7.333</td>\n",
              "      <td>7.669</td>\n",
              "      <td>1.42666</td>\n",
              "      <td>1.18326</td>\n",
              "      <td>0.86733</td>\n",
              "      <td>0.56624</td>\n",
              "      <td>0.14975</td>\n",
              "      <td>0.47678</td>\n",
              "      <td>2.83137</td>\n",
              "    </tr>\n",
              "    <tr>\n",
              "      <th>3</th>\n",
              "      <td>Norway</td>\n",
              "      <td>Western Europe</td>\n",
              "      <td>4</td>\n",
              "      <td>7.498</td>\n",
              "      <td>7.421</td>\n",
              "      <td>7.575</td>\n",
              "      <td>1.57744</td>\n",
              "      <td>1.12690</td>\n",
              "      <td>0.79579</td>\n",
              "      <td>0.59609</td>\n",
              "      <td>0.35776</td>\n",
              "      <td>0.37895</td>\n",
              "      <td>2.66465</td>\n",
              "    </tr>\n",
              "    <tr>\n",
              "      <th>4</th>\n",
              "      <td>Finland</td>\n",
              "      <td>Western Europe</td>\n",
              "      <td>5</td>\n",
              "      <td>7.413</td>\n",
              "      <td>7.351</td>\n",
              "      <td>7.475</td>\n",
              "      <td>1.40598</td>\n",
              "      <td>1.13464</td>\n",
              "      <td>0.81091</td>\n",
              "      <td>0.57104</td>\n",
              "      <td>0.41004</td>\n",
              "      <td>0.25492</td>\n",
              "      <td>2.82596</td>\n",
              "    </tr>\n",
              "  </tbody>\n",
              "</table>\n",
              "</div>"
            ],
            "text/plain": [
              "       Country          Region  ...  Generosity  Dystopia Residual\n",
              "0      Denmark  Western Europe  ...     0.36171            2.73939\n",
              "1  Switzerland  Western Europe  ...     0.28083            2.69463\n",
              "2      Iceland  Western Europe  ...     0.47678            2.83137\n",
              "3       Norway  Western Europe  ...     0.37895            2.66465\n",
              "4      Finland  Western Europe  ...     0.25492            2.82596\n",
              "\n",
              "[5 rows x 13 columns]"
            ]
          },
          "metadata": {
            "tags": []
          },
          "execution_count": 1
        }
      ]
    },
    {
      "cell_type": "code",
      "metadata": {
        "id": "VqJ-9wzO2nDw",
        "colab_type": "code",
        "outputId": "bbc91286-50a7-4119-ccff-1e8304a6fdb2",
        "colab": {
          "base_uri": "https://localhost:8080/",
          "height": 330
        }
      },
      "source": [
        "happiness2016.info(memory_usage='deep')"
      ],
      "execution_count": 2,
      "outputs": [
        {
          "output_type": "stream",
          "text": [
            "<class 'pandas.core.frame.DataFrame'>\n",
            "RangeIndex: 157 entries, 0 to 156\n",
            "Data columns (total 13 columns):\n",
            "Country                          157 non-null object\n",
            "Region                           157 non-null object\n",
            "Happiness Rank                   157 non-null int64\n",
            "Happiness Score                  157 non-null float64\n",
            "Lower Confidence Interval        157 non-null float64\n",
            "Upper Confidence Interval        157 non-null float64\n",
            "Economy (GDP per Capita)         157 non-null float64\n",
            "Family                           157 non-null float64\n",
            "Health (Life Expectancy)         157 non-null float64\n",
            "Freedom                          157 non-null float64\n",
            "Trust (Government Corruption)    157 non-null float64\n",
            "Generosity                       157 non-null float64\n",
            "Dystopia Residual                157 non-null float64\n",
            "dtypes: float64(10), int64(1), object(2)\n",
            "memory usage: 35.6 KB\n"
          ],
          "name": "stdout"
        }
      ]
    },
    {
      "cell_type": "code",
      "metadata": {
        "id": "-79GWe0I4fXm",
        "colab_type": "code",
        "outputId": "ff1c7535-6c8a-418d-a7a8-8908462e9ed6",
        "colab": {
          "base_uri": "https://localhost:8080/",
          "height": 208
        }
      },
      "source": [
        "happiness2016['Region'].value_counts()"
      ],
      "execution_count": 3,
      "outputs": [
        {
          "output_type": "execute_result",
          "data": {
            "text/plain": [
              "Sub-Saharan Africa                 38\n",
              "Central and Eastern Europe         29\n",
              "Latin America and Caribbean        24\n",
              "Western Europe                     21\n",
              "Middle East and Northern Africa    19\n",
              "Southeastern Asia                   9\n",
              "Southern Asia                       7\n",
              "Eastern Asia                        6\n",
              "Australia and New Zealand           2\n",
              "North America                       2\n",
              "Name: Region, dtype: int64"
            ]
          },
          "metadata": {
            "tags": []
          },
          "execution_count": 3
        }
      ]
    },
    {
      "cell_type": "code",
      "metadata": {
        "id": "9BI92e1-AD3V",
        "colab_type": "code",
        "outputId": "36a06fdf-7d6f-4e05-e9d9-1c8a34e74fea",
        "colab": {
          "base_uri": "https://localhost:8080/",
          "height": 318
        }
      },
      "source": [
        "happiness2016.describe()"
      ],
      "execution_count": 4,
      "outputs": [
        {
          "output_type": "execute_result",
          "data": {
            "text/html": [
              "<div>\n",
              "<style scoped>\n",
              "    .dataframe tbody tr th:only-of-type {\n",
              "        vertical-align: middle;\n",
              "    }\n",
              "\n",
              "    .dataframe tbody tr th {\n",
              "        vertical-align: top;\n",
              "    }\n",
              "\n",
              "    .dataframe thead th {\n",
              "        text-align: right;\n",
              "    }\n",
              "</style>\n",
              "<table border=\"1\" class=\"dataframe\">\n",
              "  <thead>\n",
              "    <tr style=\"text-align: right;\">\n",
              "      <th></th>\n",
              "      <th>Happiness Rank</th>\n",
              "      <th>Happiness Score</th>\n",
              "      <th>Lower Confidence Interval</th>\n",
              "      <th>Upper Confidence Interval</th>\n",
              "      <th>Economy (GDP per Capita)</th>\n",
              "      <th>Family</th>\n",
              "      <th>Health (Life Expectancy)</th>\n",
              "      <th>Freedom</th>\n",
              "      <th>Trust (Government Corruption)</th>\n",
              "      <th>Generosity</th>\n",
              "      <th>Dystopia Residual</th>\n",
              "    </tr>\n",
              "  </thead>\n",
              "  <tbody>\n",
              "    <tr>\n",
              "      <th>count</th>\n",
              "      <td>157.000000</td>\n",
              "      <td>157.000000</td>\n",
              "      <td>157.000000</td>\n",
              "      <td>157.000000</td>\n",
              "      <td>157.000000</td>\n",
              "      <td>157.000000</td>\n",
              "      <td>157.000000</td>\n",
              "      <td>157.000000</td>\n",
              "      <td>157.000000</td>\n",
              "      <td>157.000000</td>\n",
              "      <td>157.000000</td>\n",
              "    </tr>\n",
              "    <tr>\n",
              "      <th>mean</th>\n",
              "      <td>78.980892</td>\n",
              "      <td>5.382185</td>\n",
              "      <td>5.282395</td>\n",
              "      <td>5.481975</td>\n",
              "      <td>0.953880</td>\n",
              "      <td>0.793621</td>\n",
              "      <td>0.557619</td>\n",
              "      <td>0.370994</td>\n",
              "      <td>0.137624</td>\n",
              "      <td>0.242635</td>\n",
              "      <td>2.325807</td>\n",
              "    </tr>\n",
              "    <tr>\n",
              "      <th>std</th>\n",
              "      <td>45.466030</td>\n",
              "      <td>1.141674</td>\n",
              "      <td>1.148043</td>\n",
              "      <td>1.136493</td>\n",
              "      <td>0.412595</td>\n",
              "      <td>0.266706</td>\n",
              "      <td>0.229349</td>\n",
              "      <td>0.145507</td>\n",
              "      <td>0.111038</td>\n",
              "      <td>0.133756</td>\n",
              "      <td>0.542220</td>\n",
              "    </tr>\n",
              "    <tr>\n",
              "      <th>min</th>\n",
              "      <td>1.000000</td>\n",
              "      <td>2.905000</td>\n",
              "      <td>2.732000</td>\n",
              "      <td>3.078000</td>\n",
              "      <td>0.000000</td>\n",
              "      <td>0.000000</td>\n",
              "      <td>0.000000</td>\n",
              "      <td>0.000000</td>\n",
              "      <td>0.000000</td>\n",
              "      <td>0.000000</td>\n",
              "      <td>0.817890</td>\n",
              "    </tr>\n",
              "    <tr>\n",
              "      <th>25%</th>\n",
              "      <td>40.000000</td>\n",
              "      <td>4.404000</td>\n",
              "      <td>4.327000</td>\n",
              "      <td>4.465000</td>\n",
              "      <td>0.670240</td>\n",
              "      <td>0.641840</td>\n",
              "      <td>0.382910</td>\n",
              "      <td>0.257480</td>\n",
              "      <td>0.061260</td>\n",
              "      <td>0.154570</td>\n",
              "      <td>2.031710</td>\n",
              "    </tr>\n",
              "    <tr>\n",
              "      <th>50%</th>\n",
              "      <td>79.000000</td>\n",
              "      <td>5.314000</td>\n",
              "      <td>5.237000</td>\n",
              "      <td>5.419000</td>\n",
              "      <td>1.027800</td>\n",
              "      <td>0.841420</td>\n",
              "      <td>0.596590</td>\n",
              "      <td>0.397470</td>\n",
              "      <td>0.105470</td>\n",
              "      <td>0.222450</td>\n",
              "      <td>2.290740</td>\n",
              "    </tr>\n",
              "    <tr>\n",
              "      <th>75%</th>\n",
              "      <td>118.000000</td>\n",
              "      <td>6.269000</td>\n",
              "      <td>6.154000</td>\n",
              "      <td>6.434000</td>\n",
              "      <td>1.279640</td>\n",
              "      <td>1.021520</td>\n",
              "      <td>0.729930</td>\n",
              "      <td>0.484530</td>\n",
              "      <td>0.175540</td>\n",
              "      <td>0.311850</td>\n",
              "      <td>2.664650</td>\n",
              "    </tr>\n",
              "    <tr>\n",
              "      <th>max</th>\n",
              "      <td>157.000000</td>\n",
              "      <td>7.526000</td>\n",
              "      <td>7.460000</td>\n",
              "      <td>7.669000</td>\n",
              "      <td>1.824270</td>\n",
              "      <td>1.183260</td>\n",
              "      <td>0.952770</td>\n",
              "      <td>0.608480</td>\n",
              "      <td>0.505210</td>\n",
              "      <td>0.819710</td>\n",
              "      <td>3.837720</td>\n",
              "    </tr>\n",
              "  </tbody>\n",
              "</table>\n",
              "</div>"
            ],
            "text/plain": [
              "       Happiness Rank  Happiness Score  ...  Generosity  Dystopia Residual\n",
              "count      157.000000       157.000000  ...  157.000000         157.000000\n",
              "mean        78.980892         5.382185  ...    0.242635           2.325807\n",
              "std         45.466030         1.141674  ...    0.133756           0.542220\n",
              "min          1.000000         2.905000  ...    0.000000           0.817890\n",
              "25%         40.000000         4.404000  ...    0.154570           2.031710\n",
              "50%         79.000000         5.314000  ...    0.222450           2.290740\n",
              "75%        118.000000         6.269000  ...    0.311850           2.664650\n",
              "max        157.000000         7.526000  ...    0.819710           3.837720\n",
              "\n",
              "[8 rows x 11 columns]"
            ]
          },
          "metadata": {
            "tags": []
          },
          "execution_count": 4
        }
      ]
    },
    {
      "cell_type": "code",
      "metadata": {
        "id": "mAmE_UI7o9Mc",
        "colab_type": "code",
        "colab": {}
      },
      "source": [
        ""
      ],
      "execution_count": 0,
      "outputs": []
    }
  ]
}